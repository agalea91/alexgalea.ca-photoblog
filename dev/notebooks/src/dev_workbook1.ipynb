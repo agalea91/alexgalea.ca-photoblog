{
 "cells": [
  {
   "cell_type": "markdown",
   "metadata": {},
   "source": [
    "# Dev workbook 1"
   ]
  },
  {
   "cell_type": "markdown",
   "metadata": {},
   "source": [
    "## Script to copy blog posts from `posts/img` to `public/img`\n",
    "- Size for internet\n",
    "- Watermark"
   ]
  },
  {
   "cell_type": "code",
   "execution_count": 1,
   "metadata": {},
   "outputs": [
    {
     "name": "stdout",
     "output_type": "stream",
     "text": [
      "/Users/alex/Documents/alexgalea.ca/alexgalea.ca-photoblog-flask-vuejs\n"
     ]
    }
   ],
   "source": [
    "cd ../../../"
   ]
  },
  {
   "cell_type": "code",
   "execution_count": 5,
   "metadata": {},
   "outputs": [
    {
     "name": "stdout",
     "output_type": "stream",
     "text": [
      "Dockerfile.client        \u001b[1m\u001b[36mapp\u001b[m\u001b[m/                     requirements.txt\r\n",
      "Dockerfile.client.build  app.json                 run.py\r\n",
      "Dockerfile.server        \u001b[1m\u001b[36mdev\u001b[m\u001b[m/                     \u001b[31mrun_client.sh\u001b[m\u001b[m*\r\n",
      "HISTORY.md               \u001b[1m\u001b[36mdist\u001b[m\u001b[m/                    \u001b[31mrun_server.sh\u001b[m\u001b[m*\r\n",
      "LICENSE.md               docker-compose.yaml      \u001b[1m\u001b[36msrc\u001b[m\u001b[m/\r\n",
      "LINKS.txt                \u001b[1m\u001b[36mdocs\u001b[m\u001b[m/                    \u001b[1m\u001b[36mtests\u001b[m\u001b[m/\r\n",
      "Makefile                 \u001b[1m\u001b[36mnode_modules\u001b[m\u001b[m/            tox.ini\r\n",
      "Procfile                 package.json             update_public_posts.py\r\n",
      "README.md                \u001b[1m\u001b[36mposts\u001b[m\u001b[m/                   vue.config.js\r\n",
      "VERSION                  \u001b[1m\u001b[36mpublic\u001b[m\u001b[m/                  yarn.lock\r\n"
     ]
    }
   ],
   "source": [
    "ls"
   ]
  },
  {
   "cell_type": "code",
   "execution_count": 31,
   "metadata": {},
   "outputs": [],
   "source": [
    "import glob\n",
    "import os\n",
    "import pathlib\n"
   ]
  },
  {
   "cell_type": "markdown",
   "metadata": {},
   "source": [
    "### Load posts"
   ]
  },
  {
   "cell_type": "code",
   "execution_count": 32,
   "metadata": {},
   "outputs": [
    {
     "data": {
      "text/plain": [
       "[PosixPath('posts/img/2020/10/3-earthquake-foot'),\n",
       " PosixPath('posts/img/2020/10/4-lakota-dream-of-what-was-to-be'),\n",
       " PosixPath('posts/img/2020/10/1-joy-in-life'),\n",
       " PosixPath('posts/img/2020/10/2-the-story-of-s7ayulh-thunder'),\n",
       " PosixPath('posts/img/2020/09/1-thunderbird')]"
      ]
     },
     "execution_count": 32,
     "metadata": {},
     "output_type": "execute_result"
    }
   ],
   "source": [
    "\n",
    "post_folders = glob.glob(\"posts/img/*/*/*\", recursive=True)\n",
    "post_folders = [pathlib.Path(folder) for folder in post_folders]\n",
    "post_folders"
   ]
  },
  {
   "cell_type": "code",
   "execution_count": 33,
   "metadata": {},
   "outputs": [
    {
     "data": {
      "text/plain": [
       "True"
      ]
     },
     "execution_count": 33,
     "metadata": {},
     "output_type": "execute_result"
    }
   ],
   "source": [
    "post_folders[0].exists()"
   ]
  },
  {
   "cell_type": "code",
   "execution_count": 34,
   "metadata": {},
   "outputs": [
    {
     "data": {
      "text/plain": [
       "PosixPath('posts/img/2020/10/3-earthquake-foot')"
      ]
     },
     "execution_count": 34,
     "metadata": {},
     "output_type": "execute_result"
    }
   ],
   "source": [
    "post_folders[0]"
   ]
  },
  {
   "cell_type": "code",
   "execution_count": 35,
   "metadata": {},
   "outputs": [],
   "source": [
    "def read_post_images(post_fp):\n",
    "    with open((post_fp/\"post.json\"), \"r\") as f:\n",
    "        iamge_file = f.read()\n",
    "        \n",
    "    \n",
    "\n",
    "def update_public_images():\n",
    "    pass\n",
    "\n",
    "\n",
    "\n"
   ]
  },
  {
   "cell_type": "code",
   "execution_count": 36,
   "metadata": {},
   "outputs": [
    {
     "name": "stdout",
     "output_type": "stream",
     "text": [
      "{\n",
      "    \"title\": \"Earthquake Foot\",\n",
      "    \"desc\": \"\",\n",
      "    \"photos_taken_date\": \"August 2020\",\n",
      "    \"cover_image\": \"\",\n",
      "    \"body\": {\n",
      "        \"divs\": [\n",
      "            {\n",
      "                \"type\": \"text\",\n",
      "                \"text\": \"TODO: find stormy photos of howe sound!\"\n",
      "            },\n",
      "            {\n",
      "                \"type\": \"text\",\n",
      "                \"text\": \"On the coast of what is now the state of Washington, Thunderbird and Whale had a fight,\"\n",
      "            },\n",
      "            {\n",
      "                \"type\": \"photo\",\n",
      "                \"file\": \"\"\n",
      "            },\n",
      "            {\n",
      "                \"type\": \"text\",\n",
      "                \"text\": \"This caused the mountains to shake and uprooted the trees. The ocean rose up and covered the whole land.\"\n",
      "            },\n",
      "            {\n",
      "                \"type\": \"text\",\n",
      "                \"text\": \"To the North on Vancouver Island, dwarfs who lived in a mountain were dancing around their drum.\"\n",
      "            },\n",
      "            {\n",
      "                \"type\": \"text\",\n",
      "                \"text\": \"When someone accidentally kicked the drum, they got \\\"earthquake foot\\\", thereafter causing an earquake with each step.\"\n",
      "            },\n",
      "            {\n",
      "                \"type\": \"text\",\n",
      "                \"text\": \"The land shook and the ocean flooded in.\"\n",
      "            },\n",
      "            {\n",
      "                \"type\": \"photo\",\n",
      "                \"file\": \"20201007-IMG_7508.jpg\"\n",
      "            },\n",
      "            {\n",
      "                \"type\": \"text\",\n",
      "                \"text\": \"Everything then drifted away, everything was lost and gone.<br><br><i>- Quileute, Hoh, Nuu-chah-nulth peoples</i>\"\n",
      "            }\n",
      "        ]\n",
      "    }\n",
      "}\n",
      "\n",
      "\n",
      "\n"
     ]
    }
   ],
   "source": [
    "read_post_images(post_folders[0])"
   ]
  },
  {
   "cell_type": "code",
   "execution_count": 55,
   "metadata": {},
   "outputs": [],
   "source": [
    "\n",
    "\n",
    "def read_post_images(post_fp):\n",
    "    images = []\n",
    "    with open((post_fp / \"post.json\"), \"r\") as f:\n",
    "        post = json.loads(f.read())\n",
    "        print(post['title'])\n",
    "        for block in post[\"body\"][\"divs\"]:\n",
    "            if block[\"type\"] == \"photo\":\n",
    "                photo = block[\"file\"]\n",
    "                if not photo:\n",
    "                    continue\n",
    "                images.append(photo)\n",
    "    return images\n",
    "\n",
    "\n",
    "\n",
    "def read_posts():\n",
    "    post_folders = glob.glob(POST_PATH, recursive=True)\n",
    "    post_folders = [pathlib.Path(folder) for folder in post_folders]\n",
    "    return post_folders\n"
   ]
  },
  {
   "cell_type": "code",
   "execution_count": 56,
   "metadata": {},
   "outputs": [],
   "source": [
    "import json"
   ]
  },
  {
   "cell_type": "code",
   "execution_count": 57,
   "metadata": {},
   "outputs": [],
   "source": [
    "POST_PATH = \"posts/img/*/*/*\"\n",
    "PUB_PATH = \"public\"\n"
   ]
  },
  {
   "cell_type": "code",
   "execution_count": 58,
   "metadata": {},
   "outputs": [
    {
     "name": "stdout",
     "output_type": "stream",
     "text": [
      "Earthquake Foot\n"
     ]
    },
    {
     "ename": "TypeError",
     "evalue": "string indices must be integers",
     "output_type": "error",
     "traceback": [
      "\u001b[0;31m---------------------------------------------------------------------------\u001b[0m",
      "\u001b[0;31mTypeError\u001b[0m                                 Traceback (most recent call last)",
      "\u001b[0;32m<ipython-input-58-17114cfddce7>\u001b[0m in \u001b[0;36m<module>\u001b[0;34m\u001b[0m\n\u001b[1;32m      1\u001b[0m \u001b[0mpost_fps\u001b[0m \u001b[0;34m=\u001b[0m \u001b[0mread_posts\u001b[0m\u001b[0;34m(\u001b[0m\u001b[0;34m)\u001b[0m\u001b[0;34m\u001b[0m\u001b[0;34m\u001b[0m\u001b[0m\n\u001b[1;32m      2\u001b[0m \u001b[0;32mfor\u001b[0m \u001b[0mfp\u001b[0m \u001b[0;32min\u001b[0m \u001b[0mpost_fps\u001b[0m\u001b[0;34m:\u001b[0m\u001b[0;34m\u001b[0m\u001b[0;34m\u001b[0m\u001b[0m\n\u001b[0;32m----> 3\u001b[0;31m     \u001b[0mimage_files\u001b[0m \u001b[0;34m=\u001b[0m \u001b[0mread_post_images\u001b[0m\u001b[0;34m(\u001b[0m\u001b[0mfp\u001b[0m\u001b[0;34m)\u001b[0m\u001b[0;34m\u001b[0m\u001b[0;34m\u001b[0m\u001b[0m\n\u001b[0m\u001b[1;32m      4\u001b[0m     \u001b[0;32mfor\u001b[0m \u001b[0mimage\u001b[0m \u001b[0;32min\u001b[0m \u001b[0mimage_files\u001b[0m\u001b[0;34m:\u001b[0m\u001b[0;34m\u001b[0m\u001b[0;34m\u001b[0m\u001b[0m\n\u001b[1;32m      5\u001b[0m         \u001b[0mimage_fp\u001b[0m \u001b[0;34m=\u001b[0m \u001b[0;34m(\u001b[0m\u001b[0mfp\u001b[0m \u001b[0;34m/\u001b[0m \u001b[0mimage\u001b[0m\u001b[0;34m)\u001b[0m\u001b[0;34m\u001b[0m\u001b[0;34m\u001b[0m\u001b[0m\n",
      "\u001b[0;32m<ipython-input-55-fe3ac68a8f4a>\u001b[0m in \u001b[0;36mread_post_images\u001b[0;34m(post_fp)\u001b[0m\n\u001b[1;32m      9\u001b[0m                 \u001b[0;32mif\u001b[0m \u001b[0;32mnot\u001b[0m \u001b[0mphoto\u001b[0m\u001b[0;34m:\u001b[0m\u001b[0;34m\u001b[0m\u001b[0;34m\u001b[0m\u001b[0m\n\u001b[1;32m     10\u001b[0m                     \u001b[0;32mcontinue\u001b[0m\u001b[0;34m\u001b[0m\u001b[0;34m\u001b[0m\u001b[0m\n\u001b[0;32m---> 11\u001b[0;31m                 \u001b[0mimages\u001b[0m\u001b[0;34m.\u001b[0m\u001b[0mappend\u001b[0m\u001b[0;34m(\u001b[0m\u001b[0mphoto\u001b[0m\u001b[0;34m[\u001b[0m\u001b[0;34m\"file\"\u001b[0m\u001b[0;34m]\u001b[0m\u001b[0;34m)\u001b[0m\u001b[0;34m\u001b[0m\u001b[0;34m\u001b[0m\u001b[0m\n\u001b[0m\u001b[1;32m     12\u001b[0m     \u001b[0;32mreturn\u001b[0m \u001b[0mimages\u001b[0m\u001b[0;34m\u001b[0m\u001b[0;34m\u001b[0m\u001b[0m\n\u001b[1;32m     13\u001b[0m \u001b[0;34m\u001b[0m\u001b[0m\n",
      "\u001b[0;31mTypeError\u001b[0m: string indices must be integers"
     ]
    }
   ],
   "source": [
    "post_fps = read_posts()\n",
    "for fp in post_fps:\n",
    "    image_files = read_post_images(fp)\n",
    "    for image in image_files:\n",
    "        image_fp = (fp / image)\n",
    "        pub_image_fp = PUB_PATH / (pathlib.Path(*fp.split()[1:]) / image)\n",
    "        print(image_fp, pub_image_fp)\n",
    "#         shutil.copy(image_fp, pub_image_fp)"
   ]
  },
  {
   "cell_type": "code",
   "execution_count": 193,
   "metadata": {},
   "outputs": [],
   "source": [
    "# post_slug = \"1-joy-in-life\"\n",
    "post_slug = \"\"\n",
    "\n",
    "\n",
    "\n",
    "import json\n",
    "import glob\n",
    "import os\n",
    "import shutil\n",
    "import pathlib\n",
    "\n",
    "import traceback\n",
    "\n",
    "from PIL import Image\n",
    "from PIL import ImageDraw\n",
    "from PIL import ImageFont\n",
    "\n",
    "POST_PATH = \"posts/img/*/*/*\"\n",
    "PUB_PATH = \"public\"\n",
    "MAX_PX_SIZE = 1080\n",
    "\n",
    "def main():\n",
    "#     args = parse_args()\n",
    "#     post_slug = args.post_slug\n",
    "    if post_slug:\n",
    "        print(f\"Copying single post: {post_slug}\")\n",
    "    else:\n",
    "        print(\"Copying all posts\")\n",
    "    \n",
    "    post_fps = read_posts()\n",
    "    for fp in post_fps:\n",
    "        if post_slug and not str(fp).endswith(post_slug):\n",
    "            continue\n",
    "        print(f\"Processing {fp}\")\n",
    "        try:\n",
    "            image_files = read_post_images(fp)\n",
    "        except:\n",
    "            print(f\"Failed to read images in post: {fp}\")\n",
    "            print(traceback.print_exc())\n",
    "            image_files = []\n",
    "            \n",
    "        pub_fp = PUB_PATH / (pathlib.Path(*fp.parts[1:]))\n",
    "            \n",
    "        post_fp = (fp / \"post.json\")\n",
    "        pub_post_fp = (pub_fp / \"post.json\")\n",
    "        print(f\"{str(post_fp)} -> {str(pub_post_fp)}\")\n",
    "        pathlib.Path(*pub_post_fp.parts[:-1]).mkdir(exist_ok=True, parents=True)\n",
    "        shutil.copyfile(post_fp, pub_post_fp)    \n",
    "\n",
    "        for image in image_files:\n",
    "            image_fp = (fp / image[\"file\"])\n",
    "            pub_image_fp = (pub_fp / image[\"file\"])\n",
    "            print(image_fp)\n",
    "            \n",
    "            image_obj = load_image(image_fp)\n",
    "            image_obj = resize_pixels(image_obj, MAX_PX_SIZE)\n",
    "            image_obj = add_watermark(image_obj, date=image[\"date\"])\n",
    "            \n",
    "            print(f\"{str(image_fp)} -> {str(pub_image_fp)}\")\n",
    "            write_image(image_obj, pub_image_fp)\n",
    "            \n",
    "    \n",
    "\n",
    "def parse_args():\n",
    "    import argparse\n",
    "    parser = argparse.ArgumentParser(description=\"Convert images in posts to public images for website\")\n",
    "    parser.add_argument(\n",
    "        \"--post-slug\",\n",
    "        default=\"\",\n",
    "        help=(\n",
    "            \"Update a single post (skip the rest). \"\n",
    "            \"Example slug: 4-lakota-dream-of-what-was-to-be\"\n",
    "        )\n",
    "    )\n",
    "    args = parser.parse_args()\n",
    "    return args\n",
    "\n",
    "            \n",
    "def load_image(image_fp):\n",
    "    image = Image.open(image_fp).convert(\"RGBA\")\n",
    "    return image\n",
    "    \n",
    "\n",
    "\n",
    "def add_watermark(image_obj, **kwargs):\n",
    "    photo_date = kwargs[\"date\"]\n",
    "    upper_right_text = \"© Alex Galea 2020\"\n",
    "    bottom_left_text = f\"photos.alexgalea.ca\"\n",
    "    \n",
    "    txt_obj = Image.new(\"RGBA\", image_obj.size, (255,255,255,0))\n",
    "    font = ImageFont.truetype(\"./fonts/PlayfairDisplay-Black.ttf\", 40)\n",
    "    draw = ImageDraw.Draw(txt_obj)\n",
    "    w, h = image_obj.size\n",
    "    draw.text((w-400, 50), upper_right_text, (255,255,255, 70), font=font)\n",
    "    draw.text((50, h-100), bottom_left_text, (255,255,255, 70), font=font)\n",
    "    image_obj = Image.alpha_composite(image_obj, txt_obj)\n",
    "        \n",
    "#     from matplotlib.pyplot import imshow\n",
    "#     import numpy as np        \n",
    "#     image_obj.convert('RGB').save('./dev/watermark.jpg')\n",
    "#     imshow(np.asarray(image_obj), aspect='auto')\n",
    "#     raise\n",
    "    \n",
    "    return image_obj\n",
    "\n",
    "\n",
    "    \n",
    "\n",
    "def resize_pixels(image_obj, max_px_size):\n",
    "    width_0, height_0 = image_obj.size\n",
    "\n",
    "    if max((width_0, height_0)) <= max_px_size:\n",
    "        # The image is smaller than the crop size, do nothing\n",
    "        return image_obj\n",
    "\n",
    "    if width_0 > height_0:\n",
    "        wpercent = max_px_size / float(width_0)\n",
    "        hsize = int(float(height_0) * float(wpercent))\n",
    "        img = image_obj.resize((max_px_size, hsize), Image.ANTIALIAS)\n",
    "        return img\n",
    "    else:\n",
    "        hpercent = max_px_size / float(height_0)\n",
    "        wsize = int(float(width_0) * float(hpercent))\n",
    "        img = image_obj.resize((wsize, max_px_size), Image.ANTIALIAS)\n",
    "        return img\n",
    "            \n",
    "\n",
    "def read_posts():\n",
    "    post_folders = glob.glob(POST_PATH, recursive=True)\n",
    "    post_folders = [pathlib.Path(folder) for folder in post_folders]\n",
    "    return post_folders\n",
    "\n",
    "\n",
    "def read_post_images(post_fp):\n",
    "    images = []\n",
    "    with open((post_fp / \"post.json\"), \"rb\") as f:\n",
    "        post = json.load(f)\n",
    "        for block in post[\"body\"][\"divs\"]:\n",
    "            if block[\"type\"] == \"photo\":\n",
    "                photo = block[\"file\"]\n",
    "                if not photo:\n",
    "                    continue\n",
    "                images.append({})\n",
    "                images[-1][\"file\"] = photo\n",
    "                images[-1][\"date\"] = post[\"photos_taken_date\"]\n",
    "    return images\n",
    "\n",
    "\n",
    "def write_image(image_obj, pub_image_fp):\n",
    "    image_obj.convert(\"RGB\").save(pub_image_fp)\n"
   ]
  },
  {
   "cell_type": "code",
   "execution_count": 194,
   "metadata": {},
   "outputs": [
    {
     "name": "stdout",
     "output_type": "stream",
     "text": [
      "Copying all posts\n",
      "Processing posts/img/2020/10/3-earthquake-foot\n",
      "posts/img/2020/10/3-earthquake-foot/post.json -> public/img/2020/10/3-earthquake-foot/post.json\n",
      "posts/img/2020/10/3-earthquake-foot/20201007-IMG_7508.jpg\n",
      "posts/img/2020/10/3-earthquake-foot/20201007-IMG_7508.jpg -> public/img/2020/10/3-earthquake-foot/20201007-IMG_7508.jpg\n",
      "Processing posts/img/2020/10/4-lakota-dream-of-what-was-to-be\n",
      "posts/img/2020/10/4-lakota-dream-of-what-was-to-be/post.json -> public/img/2020/10/4-lakota-dream-of-what-was-to-be/post.json\n",
      "posts/img/2020/10/4-lakota-dream-of-what-was-to-be/1-20201007-IMG_7494-2.jpg\n",
      "posts/img/2020/10/4-lakota-dream-of-what-was-to-be/1-20201007-IMG_7494-2.jpg -> public/img/2020/10/4-lakota-dream-of-what-was-to-be/1-20201007-IMG_7494-2.jpg\n",
      "posts/img/2020/10/4-lakota-dream-of-what-was-to-be/2-20201007-IMG_7443.jpg\n",
      "posts/img/2020/10/4-lakota-dream-of-what-was-to-be/2-20201007-IMG_7443.jpg -> public/img/2020/10/4-lakota-dream-of-what-was-to-be/2-20201007-IMG_7443.jpg\n",
      "posts/img/2020/10/4-lakota-dream-of-what-was-to-be/3-20201007-IMG_7503.jpg\n",
      "posts/img/2020/10/4-lakota-dream-of-what-was-to-be/3-20201007-IMG_7503.jpg -> public/img/2020/10/4-lakota-dream-of-what-was-to-be/3-20201007-IMG_7503.jpg\n",
      "posts/img/2020/10/4-lakota-dream-of-what-was-to-be/4-20201007-IMG_7455.jpg\n",
      "posts/img/2020/10/4-lakota-dream-of-what-was-to-be/4-20201007-IMG_7455.jpg -> public/img/2020/10/4-lakota-dream-of-what-was-to-be/4-20201007-IMG_7455.jpg\n",
      "Processing posts/img/2020/10/1-joy-in-life\n",
      "posts/img/2020/10/1-joy-in-life/post.json -> public/img/2020/10/1-joy-in-life/post.json\n",
      "posts/img/2020/10/1-joy-in-life/1-20200415-IMG_5172-2.jpg\n",
      "posts/img/2020/10/1-joy-in-life/1-20200415-IMG_5172-2.jpg -> public/img/2020/10/1-joy-in-life/1-20200415-IMG_5172-2.jpg\n",
      "posts/img/2020/10/1-joy-in-life/2-20200415-IMG_5177.jpg\n",
      "posts/img/2020/10/1-joy-in-life/2-20200415-IMG_5177.jpg -> public/img/2020/10/1-joy-in-life/2-20200415-IMG_5177.jpg\n",
      "posts/img/2020/10/1-joy-in-life/3-20200415-IMG_5200.jpg\n",
      "posts/img/2020/10/1-joy-in-life/3-20200415-IMG_5200.jpg -> public/img/2020/10/1-joy-in-life/3-20200415-IMG_5200.jpg\n",
      "posts/img/2020/10/1-joy-in-life/4-20200415-IMG_5205.jpg\n",
      "posts/img/2020/10/1-joy-in-life/4-20200415-IMG_5205.jpg -> public/img/2020/10/1-joy-in-life/4-20200415-IMG_5205.jpg\n",
      "Processing posts/img/2020/10/2-the-story-of-s7ayulh-thunder\n",
      "posts/img/2020/10/2-the-story-of-s7ayulh-thunder/post.json -> public/img/2020/10/2-the-story-of-s7ayulh-thunder/post.json\n",
      "Processing posts/img/2020/09/1-thunderbird\n",
      "Failed to read images in post: posts/img/2020/09/1-thunderbird\n",
      "None\n",
      "posts/img/2020/09/1-thunderbird/post.json -> public/img/2020/09/1-thunderbird/post.json\n"
     ]
    },
    {
     "name": "stderr",
     "output_type": "stream",
     "text": [
      "Traceback (most recent call last):\n",
      "  File \"<ipython-input-193-6b350bf1cfcb>\", line 36, in main\n",
      "    image_files = read_post_images(fp)\n",
      "  File \"<ipython-input-193-6b350bf1cfcb>\", line 145, in read_post_images\n",
      "    images[-1][\"date\"] = post[\"photos_taken_date\"]\n",
      "KeyError: 'photos_taken_date'\n"
     ]
    }
   ],
   "source": [
    "main()"
   ]
  },
  {
   "cell_type": "code",
   "execution_count": null,
   "metadata": {},
   "outputs": [],
   "source": []
  }
 ],
 "metadata": {
  "kernelspec": {
   "display_name": "Python 3",
   "language": "python",
   "name": "python3"
  },
  "language_info": {
   "codemirror_mode": {
    "name": "ipython",
    "version": 3
   },
   "file_extension": ".py",
   "mimetype": "text/x-python",
   "name": "python",
   "nbconvert_exporter": "python",
   "pygments_lexer": "ipython3",
   "version": "3.7.7"
  }
 },
 "nbformat": 4,
 "nbformat_minor": 4
}
